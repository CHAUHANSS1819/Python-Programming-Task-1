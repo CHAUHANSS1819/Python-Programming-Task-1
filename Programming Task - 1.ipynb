{
 "cells": [
  {
   "cell_type": "markdown",
   "id": "059facdc",
   "metadata": {},
   "source": [
    "# Problem 1."
   ]
  },
  {
   "cell_type": "code",
   "execution_count": 1,
   "id": "0938f222",
   "metadata": {},
   "outputs": [
    {
     "name": "stdout",
     "output_type": "stream",
     "text": [
      "Hello, World!\n"
     ]
    }
   ],
   "source": [
    "print(\"Hello, World!\")"
   ]
  },
  {
   "cell_type": "markdown",
   "id": "66cd1e98",
   "metadata": {},
   "source": [
    "# Problem 2."
   ]
  },
  {
   "cell_type": "code",
   "execution_count": 2,
   "id": "36a45561",
   "metadata": {},
   "outputs": [
    {
     "name": "stdout",
     "output_type": "stream",
     "text": [
      "3\n",
      "Weird\n"
     ]
    }
   ],
   "source": [
    "n = int(input())\n",
    "\n",
    "if n%2 != 0 :\n",
    "    print('Weird')\n",
    "elif n%2 == 0 and 2<=n<=5 :\n",
    "    print('Not Weird')\n",
    "elif n%2 == 0 and 6<=n<=20 :\n",
    "    print('Weird')\n",
    "elif n%2 == 0 and n>20 :\n",
    "    print('Not Weird')"
   ]
  },
  {
   "cell_type": "markdown",
   "id": "22d362ee",
   "metadata": {},
   "source": [
    "# Problem 3."
   ]
  },
  {
   "cell_type": "code",
   "execution_count": 3,
   "id": "aa777ade",
   "metadata": {},
   "outputs": [
    {
     "name": "stdout",
     "output_type": "stream",
     "text": [
      "3\n",
      "5\n",
      "8\n",
      "-2\n",
      "15\n"
     ]
    }
   ],
   "source": [
    "a = int(input())\n",
    "b = int(input())\n",
    "    \n",
    "print(a+b)\n",
    "print(a-b)\n",
    "print(a*b)"
   ]
  },
  {
   "cell_type": "markdown",
   "id": "fc39b28c",
   "metadata": {},
   "source": [
    "# Problem 4."
   ]
  },
  {
   "cell_type": "code",
   "execution_count": 4,
   "id": "659e0278",
   "metadata": {},
   "outputs": [
    {
     "name": "stdout",
     "output_type": "stream",
     "text": [
      "3\n",
      "5\n",
      "0\n",
      "0.6\n"
     ]
    }
   ],
   "source": [
    "a = int(input())\n",
    "b = int(input())\n",
    "\n",
    "print(a//b)\n",
    "print(a/b)"
   ]
  },
  {
   "cell_type": "markdown",
   "id": "94b5214b",
   "metadata": {},
   "source": [
    "# Problem 5."
   ]
  },
  {
   "cell_type": "code",
   "execution_count": 5,
   "id": "f912c7b7",
   "metadata": {},
   "outputs": [
    {
     "name": "stdout",
     "output_type": "stream",
     "text": [
      "5\n",
      "0\n",
      "1\n",
      "4\n",
      "9\n",
      "16\n"
     ]
    }
   ],
   "source": [
    "n = int(input())\n",
    "\n",
    "for i in range(0,n) :\n",
    "    print(i**2)"
   ]
  },
  {
   "cell_type": "markdown",
   "id": "64e5c21d",
   "metadata": {},
   "source": [
    "# Problem 6."
   ]
  },
  {
   "cell_type": "code",
   "execution_count": 6,
   "id": "7548e598",
   "metadata": {},
   "outputs": [
    {
     "name": "stdout",
     "output_type": "stream",
     "text": [
      "1900\n",
      "False\n"
     ]
    }
   ],
   "source": [
    "def is_leap(year):\n",
    "    if year % 400 == 0:\n",
    "        return True\n",
    "    if year % 100 == 0:\n",
    "        return False\n",
    "    if year % 4 == 0:\n",
    "        return True\n",
    "    else:\n",
    "        return False\n",
    "\n",
    "year = int(input())\n",
    "print(is_leap(year))"
   ]
  },
  {
   "cell_type": "markdown",
   "id": "bbf15537",
   "metadata": {},
   "source": [
    "# Problem 7."
   ]
  },
  {
   "cell_type": "code",
   "execution_count": 8,
   "id": "c928c31d",
   "metadata": {},
   "outputs": [
    {
     "name": "stdout",
     "output_type": "stream",
     "text": [
      "5\n",
      "12345"
     ]
    }
   ],
   "source": [
    "n = int(input())\n",
    "\n",
    "for i in range(1,151):\n",
    "   if (i <= n):\n",
    "      print(i, end=\"\")\n",
    "i+=1"
   ]
  },
  {
   "cell_type": "code",
   "execution_count": null,
   "id": "69071bea",
   "metadata": {},
   "outputs": [],
   "source": []
  }
 ],
 "metadata": {
  "kernelspec": {
   "display_name": "Python 3 (ipykernel)",
   "language": "python",
   "name": "python3"
  },
  "language_info": {
   "codemirror_mode": {
    "name": "ipython",
    "version": 3
   },
   "file_extension": ".py",
   "mimetype": "text/x-python",
   "name": "python",
   "nbconvert_exporter": "python",
   "pygments_lexer": "ipython3",
   "version": "3.9.13"
  }
 },
 "nbformat": 4,
 "nbformat_minor": 5
}
